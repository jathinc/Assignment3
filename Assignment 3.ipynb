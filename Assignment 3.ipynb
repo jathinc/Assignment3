{
 "cells": [
  {
   "cell_type": "code",
   "execution_count": 4,
   "metadata": {},
   "outputs": [
    {
     "name": "stdout",
     "output_type": "stream",
     "text": [
      "Division by zero is not permissible\n",
      "Exiting from the function\n"
     ]
    }
   ],
   "source": [
    "# Task 1:\n",
    "# 1. Write a function to compute 5/0 and use try/except to catch the exceptions.\n",
    "\n",
    "# function body\n",
    "def num_opr():\n",
    "    a = 5\n",
    "    try:\n",
    "        b = 5/0\n",
    "    except:\n",
    "        print('Division by zero is not permissible')\n",
    "    else: \n",
    "        print('strange.Division by zero is indeed possible')\n",
    "    finally:\n",
    "        print('Exiting from the function')\n",
    "        \n",
    "# invoke the function\n",
    "num_opr()\n"
   ]
  },
  {
   "cell_type": "code",
   "execution_count": 1,
   "metadata": {},
   "outputs": [
    {
     "name": "stdout",
     "output_type": "stream",
     "text": [
      "Americans play Baseball.\n",
      "Americans play Cricket.\n",
      "Americans watch Baseball.\n",
      "Americans watch Cricket.\n",
      "Indians play Baseball.\n",
      "Indians play Cricket.\n",
      "Indians watch Baseball.\n",
      "Indians watch Cricket.\n"
     ]
    }
   ],
   "source": [
    "# 2. Implement a Python program to generate all sentences where subject is in [\"Americans\",\n",
    "#\"Indians\"] and verb is in [\"Play\", \"watch\"] and the object is in [\"Baseball\",\"cricket\"].\n",
    "\n",
    "# Declare the Subject,Verb and Object lists.\n",
    "subjects=[\"Americans\",\"Indians\"]\n",
    "verbs=[\"play\",\"watch\"]\n",
    "objects=[\"Baseball\",\"Cricket\"]\n",
    "\n",
    "# Iterate over the lists in nested for loops and print the list elements. \n",
    "for i in subjects:\n",
    "    for j in verbs:\n",
    "        for k in objects:\n",
    "            print(i + ' '+ j + ' ' + k +'.')\n"
   ]
  },
  {
   "cell_type": "code",
   "execution_count": 5,
   "metadata": {},
   "outputs": [
    {
     "name": "stdout",
     "output_type": "stream",
     "text": [
      "[[ 1  1  1]\n",
      " [ 4  2  1]\n",
      " [ 9  3  1]\n",
      " [25  5  1]]\n"
     ]
    }
   ],
   "source": [
    "#Task 2\n",
    "#Write a function so that the columns of the output matrix are powers of the input vector\n",
    "\n",
    "import numpy as np\n",
    "\n",
    "# Define the function\n",
    "def Vandermonde(x,N):\n",
    "    result = np.column_stack([x**(N-1-i) for i in range (N)])\n",
    "    return result\n",
    "\n",
    "# invoke the function\n",
    "x = np.array([1, 2, 3, 5])\n",
    "N=3\n",
    "y = Vandermonde(x,N)\n",
    "print(y)\n"
   ]
  }
 ],
 "metadata": {
  "kernelspec": {
   "display_name": "Python 3",
   "language": "python",
   "name": "python3"
  },
  "language_info": {
   "codemirror_mode": {
    "name": "ipython",
    "version": 3
   },
   "file_extension": ".py",
   "mimetype": "text/x-python",
   "name": "python",
   "nbconvert_exporter": "python",
   "pygments_lexer": "ipython3",
   "version": "3.7.4"
  }
 },
 "nbformat": 4,
 "nbformat_minor": 2
}
